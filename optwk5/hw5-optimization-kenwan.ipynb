{
 "cells": [
  {
   "cell_type": "markdown",
   "metadata": {},
   "source": [
    "# HW 5"
   ]
  },
  {
   "cell_type": "markdown",
   "metadata": {},
   "source": [
    "### Part 1\n",
    "\n",
    "1 - Write a Julia code for  f(x) and Df(x) . Run the Newthon-Raphson method and search for the solution. Prepare a table with values for x , f(x) ,  Df−1(x) , and  err  for each iteration. Explain what is happening during the iterations. Is the algorithm converging? Why or why not? Choose your initial values carefully.\n",
    "\n",
    "$f1(x1,x2,x3)=x_1+x_2+x_3^2−12$\n",
    "\n",
    "$f2(x1,x2,x3)=x_1^2−x_2+x_3−2$\n",
    "\n",
    "$f3(x1,x2,x3)=2x_1^2−x_2^2+x_3−1$"
   ]
  },
  {
   "cell_type": "markdown",
   "metadata": {},
   "source": [
    "#### Setting up newton equations\n",
    "\n",
    "Create the matrix\n",
    "\n",
    "$$\n",
    "\\begin{aligned}\n",
    "\t\tDf(x_{n}) = \\left[\\begin{array}{cc}\n",
    "\t\t\t\t\t\t\\frac{\\partial f_{1}(x_{n,1},x_{n,2},x_{n,3})}{\\partial x_{1}} & \\frac{\\partial f_{1} (x_{n,1},x_{n,2},x_{n,3})}{\\partial x_{2}} & \\frac{\\partial f_{1}(x_{n,1},x_{n,2},x_{n,3})}{\\partial x_{3}} \\\\\\\\\n",
    "\t\t\t\t\t\t\\frac{\\partial f_{2}(x_{n,1},x_{n,2},x_{n,3})}{\\partial x_{1}} & \\frac{\\partial f_{2} (x_{n,1},x_{n,2},x_{n,3})}{\\partial x_{2}} & \\frac{\\partial f_{2}(x_{n,1},x_{n,2},x_{n,3})}{\\partial x_{3}} \\\\\\\\\n",
    "\t\t\t\t\t\t\\frac{\\partial f_{3}(x_{n,1},x_{n,2},x_{n,3})}{\\partial x_{1}} & \\frac{\\partial f_{3} (x_{n,1},x_{n,2},x_{n,3})}{\\partial x_{2}} & \\frac{\\partial f_{3}(x_{n,1},x_{n,2},x_{n,3})}{\\partial x_{3}} \\\\\\\\\n",
    "\t\t\t\t\t\\end{array}\\right]\n",
    "\t\t\t\t  =\n",
    "\t\t\t\t\t\\left[\\begin{array}{cc}\n",
    "                        1 & 1 & 2x_3 \\\\\\\\\n",
    "                        2x_1 & -1 & 1 \\\\\\\\\n",
    "                        4x_1 & -2x_2 & 1 \\\\\\\\\n",
    "\t\t\t\t\t\\end{array}\\right]\n",
    "\\end{aligned}\n",
    "$$\n",
    "\n",
    "After choosing a tolerance level and an initial set of values for $x$, we can run the algorithm below to find the solution to the system of equations $f(x)=0$.\n"
   ]
  },
  {
   "cell_type": "code",
   "execution_count": 62,
   "metadata": {
    "scrolled": true
   },
   "outputs": [
    {
     "name": "stdout",
     "output_type": "stream",
     "text": [
      "24×7 DataFrames.DataFrame. Omitted printing of 1 columns\n",
      "│ Row │ k │ x       │ f            │ invDf1     │ invDf2    │ invDf3     │\n",
      "├─────┼───┼─────────┼──────────────┼────────────┼───────────┼────────────┤\n",
      "│ 1   │ 0 │ 1.0     │ -9.0         │ 0.333333   │ -1.66667  │ 1.0        │\n",
      "│ 2   │ 0 │ 1.0     │ -1.0         │ 0.666667   │ -2.33333  │ 1.0        │\n",
      "│ 3   │ 0 │ 1.0     │ 1.0          │ 0.0        │ 2.0       │ -1.0       │\n",
      "│ 4   │ 1 │ 1.33333 │ 9.0          │ -0.0604454 │ 0.569459  │ -0.0858961 │\n",
      "│ 5   │ 1 │ 3.66667 │ 0.111111     │ -0.0254507 │ 0.397667  │ -0.194062  │\n",
      "│ 6   │ 1 │ 4.0     │ -6.88889     │ 0.135737   │ -0.120891 │ 0.0349947  │\n",
      "│ 7   │ 2 │ 1.22234 │ 0.935333     │ -0.104801  │ 0.819474  │ -0.183777  │\n",
      "│ 8   │ 2 │ 2.51467 │ 0.0123195    │ -0.0635849 │ 0.745371  │ -0.359681  │\n",
      "│ 9   │ 2 │ 3.03287 │ -1.30246     │ 0.19262    │ -0.25798  │ 0.0895944  │\n",
      "│ 10  │ 3 │ 1.07091 │ 0.00363523   │ -0.141349  │ 1.14779   │ -0.307452  │\n",
      "│ 11  │ 3 │ 2.09649 │ 0.0229319    │ -0.0948151 │ 1.08311   │ -0.519422  │\n",
      "│ 12  │ 3 │ 2.97258 │ -0.129009    │ 0.207928   │ -0.375247 │ 0.139084   │\n",
      "│ 13  │ 4 │ 1.00544 │ 0.000665247  │ -0.156632  │ 1.30338   │ -0.364095  │\n",
      "│ 14  │ 4 │ 2.00499 │ 0.00428652   │ -0.104641  │ 1.20298   │ -0.575469  │\n",
      "│ 15  │ 4 │ 2.99837 │ 0.000200144  │ 0.210326   │ -0.417953 │ 0.156679   │\n",
      "│ 16  │ 5 │ 1.00003 │ 2.62533e-6   │ -0.157889  │ 1.31574   │ -0.368404  │\n",
      "│ 17  │ 5 │ 2.00002 │ 2.9267e-5    │ -0.105261  │ 1.2105    │ -0.578936  │\n",
      "│ 18  │ 5 │ 2.99999 │ 3.38152e-5   │ 0.210526   │ -0.421041 │ 0.15789    │\n",
      "│ 19  │ 6 │ 1.0     │ 4.13536e-11  │ -0.157895  │ 1.31579   │ -0.368421  │\n",
      "│ 20  │ 6 │ 2.0     │ 6.57181e-10  │ -0.105263  │ 1.21053   │ -0.578947  │\n",
      "│ 21  │ 6 │ 3.0     │ 1.0718e-9    │ 0.210526   │ -0.421053 │ 0.157895   │\n",
      "│ 22  │ 7 │ 1.0     │ 0.0          │ -0.157895  │ 1.31579   │ -0.368421  │\n",
      "│ 23  │ 7 │ 2.0     │ -2.22045e-16 │ -0.105263  │ 1.21053   │ -0.578947  │\n",
      "│ 24  │ 7 │ 3.0     │ -4.44089e-16 │ 0.210526   │ -0.421053 │ 0.157895   │"
     ]
    },
    {
     "name": "stderr",
     "output_type": "stream",
     "text": [
      "\u001b[1m\u001b[33mWARNING: \u001b[39m\u001b[22m\u001b[33mabs(x::AbstractArray{T}) where T <: Number is deprecated, use abs.(x) instead.\u001b[39m\n",
      "Stacktrace:\n",
      " [1] \u001b[1mdepwarn\u001b[22m\u001b[22m\u001b[1m(\u001b[22m\u001b[22m::String, ::Symbol\u001b[1m)\u001b[22m\u001b[22m at \u001b[1m.\\deprecated.jl:70\u001b[22m\u001b[22m\n",
      " [2] \u001b[1mabs\u001b[22m\u001b[22m\u001b[1m(\u001b[22m\u001b[22m::Array{Float64,1}\u001b[1m)\u001b[22m\u001b[22m at \u001b[1m.\\deprecated.jl:57\u001b[22m\u001b[22m\n",
      " [3] \u001b[1mmacro expansion\u001b[22m\u001b[22m at \u001b[1m.\\In[62]:25\u001b[22m\u001b[22m [inlined]\n",
      " [4] \u001b[1manonymous\u001b[22m\u001b[22m at \u001b[1m.\\<missing>:?\u001b[22m\u001b[22m\n",
      " [5] \u001b[1minclude_string\u001b[22m\u001b[22m\u001b[1m(\u001b[22m\u001b[22m::String, ::String\u001b[1m)\u001b[22m\u001b[22m at \u001b[1m.\\loading.jl:522\u001b[22m\u001b[22m\n",
      " [6] \u001b[1minclude_string\u001b[22m\u001b[22m\u001b[1m(\u001b[22m\u001b[22m::Module, ::String, ::String\u001b[1m)\u001b[22m\u001b[22m at \u001b[1mC:\\Users\\Boog\\.julia\\v0.6\\Compat\\src\\Compat.jl:174\u001b[22m\u001b[22m\n",
      " [7] \u001b[1mexecute_request\u001b[22m\u001b[22m\u001b[1m(\u001b[22m\u001b[22m::ZMQ.Socket, ::IJulia.Msg\u001b[1m)\u001b[22m\u001b[22m at \u001b[1mC:\\Users\\Boog\\.julia\\v0.6\\IJulia\\src\\execute_request.jl:154\u001b[22m\u001b[22m\n",
      " [8] \u001b[1m(::Compat.#inner#16{Array{Any,1},IJulia.#execute_request,Tuple{ZMQ.Socket,IJulia.Msg}})\u001b[22m\u001b[22m\u001b[1m(\u001b[22m\u001b[22m\u001b[1m)\u001b[22m\u001b[22m at \u001b[1mC:\\Users\\Boog\\.julia\\v0.6\\Compat\\src\\Compat.jl:496\u001b[22m\u001b[22m\n",
      " [9] \u001b[1meventloop\u001b[22m\u001b[22m\u001b[1m(\u001b[22m\u001b[22m::ZMQ.Socket\u001b[1m)\u001b[22m\u001b[22m at \u001b[1mC:\\Users\\Boog\\.julia\\v0.6\\IJulia\\src\\eventloop.jl:8\u001b[22m\u001b[22m\n",
      " [10] \u001b[1m(::IJulia.##14#17)\u001b[22m\u001b[22m\u001b[1m(\u001b[22m\u001b[22m\u001b[1m)\u001b[22m\u001b[22m at \u001b[1m.\\task.jl:335\u001b[22m\u001b[22m\n",
      "while loading In[62], in expression starting on line 23\n"
     ]
    }
   ],
   "source": [
    "using DataFrames\n",
    "\n",
    "tol = 10.0^(-10)\n",
    "err = 10.0^5\n",
    "x0 = [1.0; 1.0; 1.0]\n",
    "\n",
    "x = copy(x0)\n",
    "\n",
    "function f1(x)\n",
    "    [x[1]+x[2]+x[3]^2-12; x[1]^2-x[2]+x[3]-2; 2*x[1]^2-x[2]^2+x[3]-1]\n",
    "end\n",
    "\n",
    "function Df1(x)\n",
    "    [1 1 2*x[3];\n",
    "        2*x[1] -1 1;\n",
    "            4*x[1] -2*x[2] 1]\n",
    "end\n",
    "\n",
    "k = 0\n",
    "resual = DataFrame(k=NaN,x=NaN,f=NaN,invDf1=NaN,invDf2=NaN,invDf3=NaN,err=NaN)\n",
    "\n",
    "\n",
    "while err>tol\n",
    "    x = x0 - inv(Df1(x0))*f1(x0)\n",
    "    err = maximum(abs(x-x0))\n",
    "    if k==0\n",
    "        resual = DataFrame(k=k,x=x0[1,1,1],f=f1(x0)[1,1,1],invDf1=inv(Df1(x0))[1,1],invDf2=inv(Df1(x0))[1,2],invDf3=inv(Df1(x0))[1,3],err=x[1,1,1]-x0[1,1,1])\n",
    "        push!(resual, ([k,x0[2,1,1],f1(x0)[2,1,1],inv(Df1(x0))[2,1],inv(Df1(x0))[2,2],inv(Df1(x0))[2,3],x[2,1,1]-x0[2,1,1]]))\n",
    "        push!(resual, ([k,x0[3,1,1],f1(x0)[3,1,1],inv(Df1(x0))[3,1],inv(Df1(x0))[3,2],inv(Df1(x0))[3,3],x[3,1,1]-x0[3,1,1]]))\n",
    "    else\n",
    "        push!(resual, ([k,x0[1,1,1],f1(x0)[1,1,1],inv(Df1(x0))[1,1],inv(Df1(x0))[1,2],inv(Df1(x0))[1,3],x[1,1,1]-x0[1,1,1]]))\n",
    "        push!(resual, ([k,x0[2,1,1],f1(x0)[2,1,1],inv(Df1(x0))[2,1],inv(Df1(x0))[2,2],inv(Df1(x0))[2,3],x[2,1,1]-x0[2,1,1]]))\n",
    "        push!(resual, ([k,x0[3,1,1],f1(x0)[3,1,1],inv(Df1(x0))[3,1],inv(Df1(x0))[3,2],inv(Df1(x0))[3,3],x[3,1,1]-x0[3,1,1]]))\n",
    "    end\n",
    "    x0 = x\n",
    "    k = k + 1\n",
    "end\n",
    "resual\n"
   ]
  },
  {
   "cell_type": "markdown",
   "metadata": {},
   "source": [
    "### Question 2:\n",
    "\n",
    "2) Derive the analytical version of the Newton-Raphson algorithm (including  f(x)f(x)  and  f'(x)f′(x) ) for each expression below (separately). For each expression below, implement the Newton-Raphson algorithm, and find at least one root for each non-linear function below. Also plot  f(x)f(x)  around the solution(s). Prepare a data table with values for  xx ,  f(x)f(x) ,  f'(x)f′(x) , and err for each iteration.\n",
    "\n",
    "Did not run. In Joans."
   ]
  },
  {
   "cell_type": "markdown",
   "metadata": {},
   "source": [
    "### Question 3\n",
    "\n",
    "Internal rate of return\n",
    "\n",
    "Project t0 t1 t2 t3 t4 t5\n",
    "A -1000 60 60 60 60 1060\n",
    "B -990 60 60 60 60 1060\n",
    "C -1020 60 60 60 60 1060\n",
    "\n"
   ]
  },
  {
   "cell_type": "code",
   "execution_count": 51,
   "metadata": {},
   "outputs": [
    {
     "data": {
      "image/png": "[encoded data removed]",
      "text/plain": [
       "PyPlot.Figure(PyObject <matplotlib.figure.Figure object at 0x00000000428FE160>)"
      ]
     },
     "metadata": {},
     "output_type": "display_data"
    },
    {
     "data": {
      "text/plain": [
       "1-element Array{PyCall.PyObject,1}:\n",
       " PyObject <matplotlib.lines.Line2D object at 0x0000000048AB91D0>"
      ]
     },
     "execution_count": 51,
     "metadata": {},
     "output_type": "execute_result"
    }
   ],
   "source": [
    "using PyPlot\n",
    "\n",
    "x = collect(0.0:0.001:5)\n",
    "ff = 1./(1+x).*60+(1./(1+x).^2)*60+(1./(1+x).^3)*60+(1./(1+x).^4)*60+(1./(1+x).^5)*1060 - 1000\n",
    "\n",
    "fig, ax = subplots()\n",
    "ax[:plot](x,ff,color=\"blue\",linewidth=2,label=L\"\\frac{1}{1+x}60+\\frac{1}{(1+x)^{2}}60+\\frac{1}{(1+x)^{3}}60+\\frac{1}{(1+x)^{4}}60+\\frac{1}{(1+x)^{5}}1060-1000\",alpha=1)\n",
    "#ax[1,1][:plot](x1,f1,color=\"red\",linestyle=\"-\",linewidth=2,label=L\"\\frac{1}{1+x}20+\\frac{1}{(1+x)^{2}}20+\\frac{1}{(1+x)^{3}}20+\\frac{1}{(1+x)^{4}}1020\",alpha=1)\n",
    "\n",
    "ax[:legend](loc=\"top center\")\n",
    "ax[:plot](x,zeros(length(x)),color=\"black\",linewidth=2,label=L\"\",alpha=0.3)\n"
   ]
  },
  {
   "cell_type": "code",
   "execution_count": 54,
   "metadata": {},
   "outputs": [
    {
     "name": "stderr",
     "output_type": "stream",
     "text": [
      "\u001b[1m\u001b[36mINFO: \u001b[39m\u001b[22m\u001b[36mPrecompiling module Roots.\n",
      "\u001b[39m"
     ]
    },
    {
     "data": {
      "text/plain": [
       "0.059999999999999935"
      ]
     },
     "execution_count": 54,
     "metadata": {},
     "output_type": "execute_result"
    }
   ],
   "source": [
    "using Roots\n",
    "\n",
    "f(x) = 60*1/(1+x)+60*1/(1+x)^2+60*1/(1+x)^3+60*1/(1+x)^4+1060*1/(1+x)^5-1000\n",
    "\n",
    "fzero(f,0,1)\n"
   ]
  },
  {
   "cell_type": "code",
   "execution_count": 60,
   "metadata": {},
   "outputs": [
    {
     "name": "stdout",
     "output_type": "stream",
     "text": [
      "Bisection result\n",
      "0.059999942779541016\n",
      "Julia's sqrt function\n",
      "1.4142135623730951\n",
      "Iterations\n",
      "20×4 DataFrames.DataFrame\n",
      "│ Row │ a         │ b         │ c         │ err         │\n",
      "├─────┼───────────┼───────────┼───────────┼─────────────┤\n",
      "│ 1   │ 0.0       │ 0.5       │ 0.25      │ 0.5         │\n",
      "│ 2   │ 0.0       │ 0.25      │ 0.125     │ 0.25        │\n",
      "│ 3   │ 0.0       │ 0.125     │ 0.0625    │ 0.125       │\n",
      "│ 4   │ 0.0       │ 0.0625    │ 0.03125   │ 0.0625      │\n",
      "│ 5   │ 0.03125   │ 0.0625    │ 0.046875  │ 0.03125     │\n",
      "│ 6   │ 0.046875  │ 0.0625    │ 0.0546875 │ 0.015625    │\n",
      "│ 7   │ 0.0546875 │ 0.0625    │ 0.0585938 │ 0.0078125   │\n",
      "│ 8   │ 0.0585938 │ 0.0625    │ 0.0605469 │ 0.00390625  │\n",
      "│ 9   │ 0.0585938 │ 0.0605469 │ 0.0595703 │ 0.00195313  │\n",
      "│ 10  │ 0.0595703 │ 0.0605469 │ 0.0600586 │ 0.000976563 │\n",
      "│ 11  │ 0.0595703 │ 0.0600586 │ 0.0598145 │ 0.000488281 │\n",
      "│ 12  │ 0.0598145 │ 0.0600586 │ 0.0599365 │ 0.000244141 │\n",
      "│ 13  │ 0.0599365 │ 0.0600586 │ 0.0599976 │ 0.00012207  │\n",
      "│ 14  │ 0.0599976 │ 0.0600586 │ 0.0600281 │ 6.10352e-5  │\n",
      "│ 15  │ 0.0599976 │ 0.0600281 │ 0.0600128 │ 3.05176e-5  │\n",
      "│ 16  │ 0.0599976 │ 0.0600128 │ 0.0600052 │ 1.52588e-5  │\n",
      "│ 17  │ 0.0599976 │ 0.0600052 │ 0.0600014 │ 7.62939e-6  │\n",
      "│ 18  │ 0.0599976 │ 0.0600014 │ 0.0599995 │ 3.8147e-6   │\n",
      "│ 19  │ 0.0599995 │ 0.0600014 │ 0.0600004 │ 1.90735e-6  │\n",
      "│ 20  │ 0.0599995 │ 0.0600004 │ 0.0599999 │ 9.53674e-7  │\n"
     ]
    }
   ],
   "source": [
    "using DataFrames\n",
    "\n",
    "function b1(x)\n",
    "    60*1/(1+x)+60*1/(1+x)^2+60*1/(1+x)^3+60*1/(1+x)^4+1060*1/(1+x)^5-1000\n",
    "end\n",
    "\n",
    "function bisec(f::Function,a::Float64,b::Float64,tol::Float64)\n",
    "    if a>=b\n",
    "        error(\"a must be less than b\") \n",
    "    end\n",
    "    if b1(a)*b1(b) > 0\n",
    "        error(\"signs of f(a) and f(b) are not opposites\") \n",
    "    end\n",
    "    i = 1\n",
    "    err=b-a\n",
    "    c=(a+b)/2\n",
    "    resual = DataFrame(a=a,b=b,c=c,err=err)\n",
    "    while err>tol\n",
    "        if f(c)==0.0\n",
    "            break\n",
    "        end\n",
    "        if b1(a)*b1(c)<0\n",
    "            a=a\n",
    "            b=c\n",
    "        else\n",
    "            a=c\n",
    "            b=b\n",
    "        end\n",
    "        c=(a+b)/2\n",
    "        err=b-a\n",
    "        i = i + 1\n",
    "        push!(resual, ([a,b,c,err]))\n",
    "    end\n",
    "    return c, resual\n",
    "end\n",
    "c, resual = bisec(b1,0.0,0.5,1e-6);\n",
    "println(\"Bisection result\")\n",
    "println(c)\n",
    "println(\"Julia's sqrt function\")\n",
    "println(sqrt(2))\n",
    "println(\"Iterations\")\n",
    "println(resual)"
   ]
  },
  {
   "cell_type": "markdown",
   "metadata": {},
   "source": [
    "### Part 2\n",
    "\n",
    "Question 1\n",
    "\n",
    "1 - Consider the following optimization problem:\n",
    "\n",
    "**maximize** <br /> $x_{1}^{0.5}*x_{2}^{0.5}$ \n",
    "\n",
    "**subject to** <br /> \n",
    "\n",
    "$0.5x_{1} + x_{2} = 1$ \n",
    "\n",
    "$x_{1}, x_{2} >= 0 $\n",
    " \n",
    "A. Rewrite the above as an unconstraint problem (use the linear constraint to substitute out  $x_2$ )\n"
   ]
  },
  {
   "cell_type": "markdown",
   "metadata": {},
   "source": [
    "1) Ai\n",
    "\n",
    "**maximize** <br /> $x_{1}^{0.5}*x_{2}^{0.5}$ \n",
    "\n",
    "**subject to** <br /> \n",
    "\n",
    "$ 0.5x_{1} + x_{2} - 1 $ <br />\n",
    "$ x_{1} >= 0$ <br />\n",
    "$ x_{2} >= 0$\n"
   ]
  },
  {
   "cell_type": "markdown",
   "metadata": {},
   "source": [
    "i. Plots the objective function for the feasible range for $x_1$ ."
   ]
  },
  {
   "cell_type": "code",
   "execution_count": 13,
   "metadata": {},
   "outputs": [
    {
     "ename": "LoadError",
     "evalue": "DomainError:\nExponentiation yielding a complex result requires a complex argument.\nReplace x^y with (x+0im)^y, Complex(x)^y, or similar.",
     "output_type": "error",
     "traceback": [
      "DomainError:\nExponentiation yielding a complex result requires a complex argument.\nReplace x^y with (x+0im)^y, Complex(x)^y, or similar.",
      "",
      "Stacktrace:",
      " [1] \u001b[1mnan_dom_err\u001b[22m\u001b[22m at \u001b[1m.\\math.jl:300\u001b[22m\u001b[22m [inlined]",
      " [2] \u001b[1m^\u001b[22m\u001b[22m\u001b[1m(\u001b[22m\u001b[22m::Float64, ::Float64\u001b[1m)\u001b[22m\u001b[22m at \u001b[1m.\\math.jl:699\u001b[22m\u001b[22m",
      " [3] \u001b[1mmacro expansion\u001b[22m\u001b[22m at \u001b[1m.\\In[13]:14\u001b[22m\u001b[22m [inlined]",
      " [4] \u001b[1manonymous\u001b[22m\u001b[22m at \u001b[1m.\\<missing>:?\u001b[22m\u001b[22m",
      " [5] \u001b[1minclude_string\u001b[22m\u001b[22m\u001b[1m(\u001b[22m\u001b[22m::String, ::String\u001b[1m)\u001b[22m\u001b[22m at \u001b[1m.\\loading.jl:522\u001b[22m\u001b[22m"
     ]
    }
   ],
   "source": [
    "using Plots\n",
    "pyplot()\n",
    "\n",
    "n = 50;\n",
    "x1 = collect(linspace(-2,2,n));\n",
    "x2 = collect(linspace(-2,2,n));\n",
    "\n",
    "f1 = zeros(n,n);\n",
    "df1 = zeros(n,n);\n",
    "df2 = zeros(n,n);\n",
    "\n",
    "for i in 1:n\n",
    "    for j in 1:n\n",
    "        f1[i,j] = x1[i]^(.5)*x2[j]^(.5);\n",
    "    end\n",
    "end\n",
    "\n",
    "for i in 1:n\n",
    "    for j in 1:n\n",
    "        df1[i,j] = .5*x1[1]^-.5*x2[2]^.5;\n",
    "    end\n",
    "end\n",
    "\n",
    "for i in 1:n\n",
    "    for j in 1:n\n",
    "        df2[i,j] =.5*x1[i]^.5*x2[i]^-.5;\n",
    "    end\n",
    "end\n",
    "\n",
    "default(size=(400,500))\n",
    "Plots.plot(\n",
    "Plots.surface(x1,x2,f1,alpha=1,cbar=true,fc=:heat,c=:black),\n",
    "Plots.contour(x1,x2,f1),\n",
    "Plots.surface(x1,x2,df1,alpha=1,cbar=true,fc=:heat,c=:black),\n",
    "Plots.contour(x1,x2,df1),\n",
    "Plots.surface(x1,x2,df2,alpha=1,cbar=true,fc=:heat,c=:black),\n",
    "Plots.contour(x1,x2,df2),\n",
    "layout=@layout([a b; c d; e f]),size=(1000,1500))"
   ]
  },
  {
   "cell_type": "markdown",
   "metadata": {},
   "source": [
    "ii. Write down the first order condition and find the solution (assume an interior solution)."
   ]
  },
  {
   "cell_type": "markdown",
   "metadata": {},
   "source": [
    "First Order Condition would be where the first derivative is = 0.\n",
    "\n",
    "In this case, we would find the minimum of where $\\nabla f(x*) = (0.5x_{1}^\\ast.^{-.5}*x_{2}^{.5}, 0.5x_{1}^\\ast.^{.5}*x_{2}^{-.5}) = (0,0)$ "
   ]
  },
  {
   "cell_type": "code",
   "execution_count": 2,
   "metadata": {},
   "outputs": [
    {
     "name": "stderr",
     "output_type": "stream",
     "text": [
      "\u001b[1m\u001b[36mINFO: \u001b[39m\u001b[22m\u001b[36mRecompiling stale cache file C:\\Users\\Boog\\.julia\\lib\\v0.6\\LineSearches.ji for module LineSearches.\n",
      "\u001b[39m\u001b[1m\u001b[36mINFO: \u001b[39m\u001b[22m\u001b[36mRecompiling stale cache file C:\\Users\\Boog\\.julia\\lib\\v0.6\\Optim.ji for module Optim.\n",
      "\u001b[39m"
     ]
    },
    {
     "ename": "LoadError",
     "evalue": "\u001b[91mUndefVarError: DifferentiableFunction not defined\u001b[39m",
     "output_type": "error",
     "traceback": [
      "\u001b[91mUndefVarError: DifferentiableFunction not defined\u001b[39m",
      "",
      "Stacktrace:",
      " [1] \u001b[1minclude_string\u001b[22m\u001b[22m\u001b[1m(\u001b[22m\u001b[22m::String, ::String\u001b[1m)\u001b[22m\u001b[22m at \u001b[1m.\\loading.jl:522\u001b[22m\u001b[22m"
     ]
    }
   ],
   "source": [
    "using Optim\n",
    "\n",
    "function g1(x)\n",
    "#   return x[1]^(.5) * x[2]^(.5)\n",
    "      return x[1]^2 - x[2]^2\n",
    "end\n",
    "\n",
    "x0 = [ 0.5;  0.5]\n",
    "xl = [0.0; 0.0]\n",
    "xu = [2.0; 1.0]\n",
    "opt1a = optimize(DifferentiableFunction(g1), x0, xl, xu,Fminbox())\n",
    "MultivariateOptimizationResults(opt1a)"
   ]
  },
  {
   "cell_type": "markdown",
   "metadata": {},
   "source": [
    "iii. Derive the second derivative of the objective function at the optimal."
   ]
  },
  {
   "cell_type": "markdown",
   "metadata": {},
   "source": [
    "The second derivate can be evaluated as:\n",
    "\n",
    "$\\nabla^2 f(x*) = \\begin{bmatrix}\n",
    "    .5 & 0 \\\\\n",
    "    0 & .5 \\\\\n",
    "\\end{bmatrix}\n",
    "$ \n",
    "\n",
    "Implying that $d\\nabla^2f(x)d = .5 d_{1}^2 + .5 d_{2}^2>= 0$ for $d_{1}^2 >= d_{2}^2$\n",
    "\n"
   ]
  },
  {
   "cell_type": "markdown",
   "metadata": {},
   "source": [
    "iv. Evaluate the second derivative at the optimal value of  $x_1$  and for the entire feasible range. Plots your results."
   ]
  },
  {
   "cell_type": "markdown",
   "metadata": {},
   "source": [
    "v. Find the solution using a Optim package, and the GoldenSection() solver option."
   ]
  },
  {
   "cell_type": "markdown",
   "metadata": {},
   "source": [
    "B. Write out the lagrange of the original optimization problem"
   ]
  },
  {
   "cell_type": "markdown",
   "metadata": {},
   "source": [
    "i. Derive the first order conditions"
   ]
  },
  {
   "cell_type": "markdown",
   "metadata": {},
   "source": [
    "ii. Solve the first order conditions and find the lagranger multiplier value"
   ]
  },
  {
   "cell_type": "code",
   "execution_count": 4,
   "metadata": {},
   "outputs": [
    {
     "ename": "LoadError",
     "evalue": "DomainError:\nExponentiation yielding a complex result requires a complex argument.\nReplace x^y with (x+0im)^y, Complex(x)^y, or similar.",
     "output_type": "error",
     "traceback": [
      "DomainError:\nExponentiation yielding a complex result requires a complex argument.\nReplace x^y with (x+0im)^y, Complex(x)^y, or similar.",
      "",
      "Stacktrace:",
      " [1] \u001b[1mnan_dom_err\u001b[22m\u001b[22m at \u001b[1m.\\math.jl:300\u001b[22m\u001b[22m [inlined]",
      " [2] \u001b[1m^\u001b[22m\u001b[22m at \u001b[1m.\\math.jl:699\u001b[22m\u001b[22m [inlined]",
      " [3] \u001b[1mdf\u001b[22m\u001b[22m\u001b[1m(\u001b[22m\u001b[22m::Array{Float64,1}\u001b[1m)\u001b[22m\u001b[22m at \u001b[1m.\\In[4]:2\u001b[22m\u001b[22m",
      " [4] \u001b[1mmacro expansion\u001b[22m\u001b[22m at \u001b[1m.\\In[4]:27\u001b[22m\u001b[22m [inlined]",
      " [5] \u001b[1manonymous\u001b[22m\u001b[22m at \u001b[1m.\\<missing>:?\u001b[22m\u001b[22m",
      " [6] \u001b[1minclude_string\u001b[22m\u001b[22m\u001b[1m(\u001b[22m\u001b[22m::String, ::String\u001b[1m)\u001b[22m\u001b[22m at \u001b[1m.\\loading.jl:522\u001b[22m\u001b[22m"
     ]
    }
   ],
   "source": [
    "function df(x)\n",
    "    return [.5*x[1]^-.5*x[2]^.5;.5*x[1]^.5*x[2]^-.5]\n",
    "end\n",
    "\n",
    "function d2f(x)\n",
    "    return [-.25*x[1]^-(1.5)*x[2]^.5;-.25*x[1]^.5*x[2]^(-1.5)]\n",
    "end\n",
    "\n",
    "function h(x)\n",
    "    return .5*x[1]+x[2]-1\n",
    "end\n",
    "\n",
    "function dh(x)\n",
    "    return [.5;1]\n",
    "end\n",
    "\n",
    "function d2h(x)\n",
    "    return [0 0;0 0]\n",
    "end\n",
    "\n",
    "tol = 1.0e-5\n",
    "x0 = [-1.0;-2.0]\n",
    "lb0 = 1.0\n",
    "err=1.0e10\n",
    "k=1\n",
    "while err>tol\n",
    "    dL0 = [df(x0)+dh(x0).*lb0; h(x0)]\n",
    "    d2L0 = [d2f(x0)+d2h(x0).*lb0 dh(x0);\n",
    "            dh(x0)' 0]\n",
    "    dd = -inv(d2L0)*dL0\n",
    "    x=x0+dd[1:length(x0)]\n",
    "    lb=lb0+dd[(length(x0)+1):(length(x0)+length(lb0))]\n",
    "    err=maximum(abs([x0;lb0]-[x;lb]))\n",
    "    x0,lb0 = x,lb\n",
    "    println(k,x0,lb0)\n",
    "    k = k+1\n",
    "end"
   ]
  },
  {
   "cell_type": "markdown",
   "metadata": {},
   "source": [
    "C. Find the solution to the original problem using Julia's NLopt and the LD_SLSQP solver."
   ]
  },
  {
   "cell_type": "code",
   "execution_count": null,
   "metadata": {},
   "outputs": [],
   "source": [
    "using JuMP, NLopt\n",
    "m = Model(solver=NLoptSolver(algorithm=:LD_SLSQP))\n",
    "\n",
    "@variable(m, x1, start =0.0)\n",
    "@variable(m, x2, start =0.0)\n",
    "@NLconstraint(m, 0.5*x1 + x2 ==  1)\n",
    "@NLobjective(m, Min, x1^.5*x2^.5)\n",
    "\n",
    "solve(m)\n",
    "println(\"x1 = \", getvalue(x1), \"; x2 = \", getvalue(x2))\n"
   ]
  },
  {
   "cell_type": "code",
   "execution_count": null,
   "metadata": {},
   "outputs": [],
   "source": [
    "using Plots\n",
    "pyplot()\n",
    "\n",
    "x1a = collect(-sqrt(1.9999999):0.01:0.0)\n",
    "x2a = sqrt(2.0-x1a.^2)\n",
    "\n",
    "x1b = collect(-2:0.01:-0.1)\n",
    "x2b = sqrt(getvalue(x1).*(getvalue(x2)^2)./x1b)\n",
    "x1b = collect(-2:0.01:-0.1)\n",
    "x2c = sqrt(0.5*getvalue(x1).*(getvalue(x2)^2)./x1b)\n",
    "\n",
    "default(size=(500,500))\n",
    "Plots.plot(x1a,x2a,color=:red, linewidth=1, label=\"x1^2+x2^2=2\")\n",
    "Plots.plot!(x1b,x2b,color=:blue, linewidth=1, label=\"x1*x2^2\")\n",
    "Plots.plot!(x1b,x2c,color=:blue, linewidth=1, label=\"\")\n",
    "Out[30]:\n"
   ]
  },
  {
   "cell_type": "markdown",
   "metadata": {},
   "source": [
    "### Part 3\n",
    "\n",
    "3 - Write out the Taylor expansion of the function $f(x)=e^x$, include the first six components. Plot the function  $f(x)=e^x$ and its first, second, third, forth, and fifth order approximation in the range  [0,2].\n",
    "\n",
    "Taylor expansion:\n",
    "\n",
    "$f(x) = f(x_{0}) + \\frac{1}{1!}f'(x_{0}) \\epsilon + \\frac{1}{2!}f''(x_{0}) \\epsilon^{2} + \\frac{1}{3!}f'''(x_{0}) \\epsilon^{3} + \\frac{1}{4!}f'''(x_{0}) \\epsilon^{4} + \\frac{1}{5!}f'''(x_{0}) \\epsilon^{5} + \\frac{1}{6!}f'''(x_{0}) \\epsilon^{6}$"
   ]
  },
  {
   "cell_type": "code",
   "execution_count": 1,
   "metadata": {},
   "outputs": [
    {
     "data": {
      "image/png": "[encoded data removed]",
      "text/plain": [
       "PyPlot.Figure(PyObject <matplotlib.figure.Figure object at 0x0000000037F5E1D0>)"
      ]
     },
     "metadata": {},
     "output_type": "display_data"
    },
    {
     "data": {
      "text/plain": [
       "PyObject <matplotlib.legend.Legend object at 0x000000003A1EF2B0>"
      ]
     },
     "execution_count": 1,
     "metadata": {},
     "output_type": "execute_result"
    }
   ],
   "source": [
    "using PyPlot\n",
    "\n",
    "x = collect(0.0:0.01:2.0)\n",
    "f = exp.(x)\n",
    "\n",
    "f1 = 1 + x./factorial(1) + (x.^2)./factorial(2)\n",
    "f2 = f1 + (x.^3)./factorial(3)\n",
    "f3 = f2 + (x.^4)./factorial(4)\n",
    "f4 = f3 + (x.^5)./factorial(5)\n",
    "f5 = f4 + (x.^6)./factorial(6)\n",
    "f6 = f5 + (x.^7)./factorial(7)\n",
    "\n",
    "fig, ax = subplots()\n",
    "ax[:plot](x,f,color=\"gray\",linewidth=2,label=L\"f = e^{x}\",alpha=1)\n",
    "ax[:legend](loc=\"bottom right\")\n",
    "ax[:plot](x,f1,color=\"red\",linewidth=2,label=L\"1st order\",alpha=1)\n",
    "ax[:legend](loc=\"bottom right\")"
   ]
  },
  {
   "cell_type": "code",
   "execution_count": 3,
   "metadata": {},
   "outputs": [
    {
     "data": {
      "image/png": "[encoded data removed]",
      "text/plain": [
       "PyPlot.Figure(PyObject <matplotlib.figure.Figure object at 0x000000003A46D208>)"
      ]
     },
     "metadata": {},
     "output_type": "display_data"
    },
    {
     "data": {
      "text/plain": [
       "PyObject <matplotlib.legend.Legend object at 0x000000003AC3EF28>"
      ]
     },
     "execution_count": 3,
     "metadata": {},
     "output_type": "execute_result"
    }
   ],
   "source": [
    "fig, ax = subplots()\n",
    "ax[:plot](x,f,color=\"gray\",linewidth=2,label=L\"f = e^{x}\",alpha=1)\n",
    "ax[:legend](loc=\"bottom right\")\n",
    "ax[:plot](x,f2,color=\"red\",linewidth=2,label=\"2nd order\",alpha=1)\n",
    "ax[:legend](loc=\"bottom right\")"
   ]
  },
  {
   "cell_type": "code",
   "execution_count": 4,
   "metadata": {},
   "outputs": [
    {
     "data": {
      "image/png": "[encoded data removed]",
      "text/plain": [
       "PyPlot.Figure(PyObject <matplotlib.figure.Figure object at 0x000000003AB25470>)"
      ]
     },
     "metadata": {},
     "output_type": "display_data"
    },
    {
     "data": {
      "text/plain": [
       "PyObject <matplotlib.legend.Legend object at 0x000000003ADDD4A8>"
      ]
     },
     "execution_count": 4,
     "metadata": {},
     "output_type": "execute_result"
    }
   ],
   "source": [
    "fig, ax = subplots()\n",
    "ax[:plot](x,f,color=\"gray\",linewidth=2,label=L\"f = e^{x}\",alpha=1)\n",
    "ax[:legend](loc=\"bottom right\")\n",
    "\n",
    "ax[:plot](x,f3,color=\"red\",linewidth=2,label=\"3rd order\",alpha=1)\n",
    "ax[:legend](loc=\"bottom right\")\n"
   ]
  },
  {
   "cell_type": "code",
   "execution_count": 6,
   "metadata": {},
   "outputs": [
    {
     "data": {
      "image/png": "[encoded data removed]",
      "text/plain": [
       "PyPlot.Figure(PyObject <matplotlib.figure.Figure object at 0x000000003AC55390>)"
      ]
     },
     "metadata": {},
     "output_type": "display_data"
    },
    {
     "data": {
      "text/plain": [
       "PyObject <matplotlib.legend.Legend object at 0x000000003EDF2F28>"
      ]
     },
     "execution_count": 6,
     "metadata": {},
     "output_type": "execute_result"
    }
   ],
   "source": [
    "fig, ax = subplots()\n",
    "ax[:plot](x,f,color=\"gray\",linewidth=2,label=L\"f = e^{x}\",alpha=1)\n",
    "ax[:legend](loc=\"bottom right\")\n",
    "\n",
    "ax[:plot](x,f4,color=\"red\",linewidth=2,label=\"4th order\",alpha=1)\n",
    "ax[:legend](loc=\"bottom right\")\n"
   ]
  },
  {
   "cell_type": "code",
   "execution_count": 41,
   "metadata": {
    "scrolled": true
   },
   "outputs": [
    {
     "name": "stderr",
     "output_type": "stream",
     "text": [
      "\u001b[1m\u001b[36mINFO: \u001b[39m\u001b[22m\u001b[36mNo packages to install, update or remove\n",
      "\u001b[39m\u001b[1m\u001b[36mINFO: \u001b[39m\u001b[22m\u001b[36mPackage database updated\n",
      "\u001b[39m\u001b[1m\u001b[36mINFO: \u001b[39m\u001b[22m\u001b[36mMETADATA is out-of-date — you may not have the latest version of Rmath\n",
      "\u001b[39m\u001b[1m\u001b[36mINFO: \u001b[39m\u001b[22m\u001b[36mUse `Pkg.update()` to get the latest versions of your packages\n",
      "\u001b[39m"
     ]
    }
   ],
   "source": [
    "Pkg.add(\"Rmath\")"
   ]
  },
  {
   "cell_type": "markdown",
   "metadata": {},
   "source": [
    "### Part 4\n",
    "\n",
    "4 - Find the implied volatility (s) for the following stocks using the Black-Scholes-Merton option pricing formula for an European call option:\n",
    "\n",
    "\n",
    "|Stock   |S0         |K         |T          |r      |C     |\n",
    "|--------|-----------|----------|-----------|-------|------|\n",
    "|A       |50         |50        |250        |0.00008|4.4580|\n",
    "|B       |50         |50        |250        |0.00016|4.0143|\n",
    "|C       |50         |60        |250        |0.00016|3.2961|\n"
   ]
  },
  {
   "cell_type": "code",
   "execution_count": null,
   "metadata": {},
   "outputs": [
    {
     "name": "stderr",
     "output_type": "stream",
     "text": [
      "\u001b[1m\u001b[36mINFO: \u001b[39m\u001b[22m\u001b[36mPrecompiling module StatsFuns.\n",
      "\u001b[39m"
     ]
    }
   ],
   "source": [
    "using StatsFuns"
   ]
  },
  {
   "cell_type": "code",
   "execution_count": 12,
   "metadata": {},
   "outputs": [
    {
     "data": {
      "text/plain": [
       "176.76432356855062"
      ]
     },
     "execution_count": 12,
     "metadata": {},
     "output_type": "execute_result"
    }
   ],
   "source": [
    "A = [50 50 0.00008 250 4.4580;\n",
    "     50 50 0.00016 250 4.0143;\n",
    "     50 60 0.00016 250 3.2961]\n",
    "\n",
    "s = 0.01265\n",
    "d1 = (log(A[1,1]/A[1,2]) +(A[1,4]+0.5*s^2)*A[1,3])/(s*A[1,3]^.5)"
   ]
  },
  {
   "cell_type": "code",
   "execution_count": 35,
   "metadata": {},
   "outputs": [
    {
     "data": {
      "text/plain": [
       "get_price (generic function with 5 methods)"
      ]
     },
     "execution_count": 35,
     "metadata": {},
     "output_type": "execute_result"
    }
   ],
   "source": [
    "function get_price(A,row,s)\n",
    "    S0 = A[row,1]\n",
    "    K = A[row,2]\n",
    "    r = A[row,3]\n",
    "    T = A[row,4]\n",
    "    s = s\n",
    "    d1 = (log.(S0./K) + (r+s.*s.*0.5).*T) ./ (s.*sqrt.(T));\n",
    "    d2 = d1 - s*sqrt.(T);\n",
    "    Price = S0.*normcdf.(d1) - K*exp.(-r*T).*normcdf.(d2);\n",
    "return Price;\n",
    "end"
   ]
  },
  {
   "cell_type": "code",
   "execution_count": 36,
   "metadata": {},
   "outputs": [
    {
     "ename": "LoadError",
     "evalue": "\u001b[91mUndefVarError: normcdf not defined\u001b[39m",
     "output_type": "error",
     "traceback": [
      "\u001b[91mUndefVarError: normcdf not defined\u001b[39m",
      "",
      "Stacktrace:",
      " [1] \u001b[1m#136\u001b[22m\u001b[22m at \u001b[1m.\\<missing>:0\u001b[22m\u001b[22m [inlined]",
      " [2] \u001b[1mbroadcast\u001b[22m\u001b[22m at \u001b[1m.\\broadcast.jl:16\u001b[22m\u001b[22m [inlined]",
      " [3] \u001b[1mget_price\u001b[22m\u001b[22m\u001b[1m(\u001b[22m\u001b[22m::Array{Float64,2}, ::Int64, ::Float64\u001b[1m)\u001b[22m\u001b[22m at \u001b[1m.\\In[35]:9\u001b[22m\u001b[22m",
      " [4] \u001b[1minclude_string\u001b[22m\u001b[22m\u001b[1m(\u001b[22m\u001b[22m::String, ::String\u001b[1m)\u001b[22m\u001b[22m at \u001b[1m.\\loading.jl:522\u001b[22m\u001b[22m"
     ]
    }
   ],
   "source": [
    "get_price(A,1,.001)"
   ]
  },
  {
   "cell_type": "code",
   "execution_count": 23,
   "metadata": {},
   "outputs": [
    {
     "data": {
      "text/plain": [
       "bisec (generic function with 1 method)"
      ]
     },
     "execution_count": 23,
     "metadata": {},
     "output_type": "execute_result"
    }
   ],
   "source": [
    "function bisec(f::Function, a::Float64, b::Float64, tol::Float64)\n",
    "    if a >= b\n",
    "        error(\"a must be less than b\") \n",
    "    end\n",
    "    \n",
    "    if f(a)*f(b) > 0\n",
    "        error(\"signs of f(a) and f(b) are not opposites\") \n",
    "    end\n",
    "    \n",
    "    i = 1\n",
    "    err = b-a\n",
    "    c = (a+b)/2\n",
    "    resual = DataFrame(a=a, b=b, c=c, err=err)\n",
    "    \n",
    "    while err > tol\n",
    "        if f(c) == 0.0\n",
    "            break\n",
    "        end\n",
    "        \n",
    "        if f(a)*f(c) < 0\n",
    "            a = a\n",
    "            b = c\n",
    "        else\n",
    "            a = c\n",
    "            b = b\n",
    "        end\n",
    "        \n",
    "        c = (a+b)/2\n",
    "        err = b-a\n",
    "        i = i + 1\n",
    "        push!(resual, ([a,b,c,err]))\n",
    "    end\n",
    "    return c, resual\n",
    "end"
   ]
  },
  {
   "cell_type": "code",
   "execution_count": 24,
   "metadata": {},
   "outputs": [
    {
     "ename": "LoadError",
     "evalue": "\u001b[91mMethodError: no method matching get_s(::Float64)\u001b[0m\nClosest candidates are:\n  get_s(::Float64, \u001b[91m::Float64\u001b[39m, \u001b[91m::Float64\u001b[39m, \u001b[91m::Float64\u001b[39m, \u001b[91m::Float64\u001b[39m) at In[22]:2\u001b[39m",
     "output_type": "error",
     "traceback": [
      "\u001b[91mMethodError: no method matching get_s(::Float64)\u001b[0m\nClosest candidates are:\n  get_s(::Float64, \u001b[91m::Float64\u001b[39m, \u001b[91m::Float64\u001b[39m, \u001b[91m::Float64\u001b[39m, \u001b[91m::Float64\u001b[39m) at In[22]:2\u001b[39m",
      "",
      "Stacktrace:",
      " [1] \u001b[1mbisec\u001b[22m\u001b[22m\u001b[1m(\u001b[22m\u001b[22m::#get_s, ::Float64, ::Float64, ::Float64\u001b[1m)\u001b[22m\u001b[22m at \u001b[1m.\\In[23]:6\u001b[22m\u001b[22m",
      " [2] \u001b[1minclude_string\u001b[22m\u001b[22m\u001b[1m(\u001b[22m\u001b[22m::String, ::String\u001b[1m)\u001b[22m\u001b[22m at \u001b[1m.\\loading.jl:522\u001b[22m\u001b[22m"
     ]
    }
   ],
   "source": [
    "bisec(get_s, 1.0, 2.0, 1e-6)"
   ]
  },
  {
   "cell_type": "code",
   "execution_count": null,
   "metadata": {},
   "outputs": [],
   "source": []
  }
 ],
 "metadata": {
  "kernelspec": {
   "display_name": "Julia 0.6.2",
   "language": "julia",
   "name": "julia-0.6"
  },
  "language_info": {
   "file_extension": ".jl",
   "mimetype": "application/julia",
   "name": "julia",
   "version": "0.6.2"
  }
 },
 "nbformat": 4,
 "nbformat_minor": 2
}
