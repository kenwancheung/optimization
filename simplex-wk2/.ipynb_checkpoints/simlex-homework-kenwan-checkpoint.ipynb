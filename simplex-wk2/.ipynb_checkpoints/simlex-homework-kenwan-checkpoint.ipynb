{
 "cells": [
  {
   "cell_type": "markdown",
   "metadata": {},
   "source": [
    "# Simplex - HW 2 - Kenwan"
   ]
  },
  {
   "cell_type": "code",
   "execution_count": 6,
   "metadata": {
    "scrolled": true
   },
   "outputs": [],
   "source": [
    "using JuMP\n",
    "using GLPKMathProgInterface\n",
    "using PyPlot"
   ]
  },
  {
   "cell_type": "code",
   "execution_count": 3,
   "metadata": {},
   "outputs": [
    {
     "data": {
      "text/latex": [
       "$$ \\begin{alignat*}{1}\\max\\quad & x2\\\\\n",
       "\\text{Subject to} \\quad & -x1 + x2 \\leq 1\\\\\n",
       " & -0.5 x1 + x2 \\leq 2\\\\\n",
       " & x1 + x2 \\leq 9\\\\\n",
       " & 0.5 x1 + x2 \\leq 6\\\\\n",
       " & x1 \\geq 0\\\\\n",
       " & x2 \\geq 0\\\\\n",
       "\\end{alignat*}\n",
       " $$"
      ],
      "text/plain": [
       "Maximization problem with:\n",
       " * 4 linear constraints\n",
       " * 2 variables\n",
       "Solver is GLPKInterfaceLP"
      ]
     },
     "execution_count": 3,
     "metadata": {},
     "output_type": "execute_result"
    }
   ],
   "source": [
    "myModel = Model(solver=GLPKSolverLP())\n",
    "@variable(myModel, x1 >= 0)\n",
    "@variable(myModel, x2 >= 0)\n",
    "@constraint(myModel, -1*x1 + x2 <= 1)\n",
    "@constraint(myModel, -0.5*x1 + x2 <= 2)\n",
    "@constraint(myModel, x1 + x2 <= 9)\n",
    "@constraint(myModel, 0.5*x1 + x2 <= 6)\n",
    "@objective(myModel, Max, x2)\n",
    "myModel"
   ]
  },
  {
   "cell_type": "code",
   "execution_count": 4,
   "metadata": {},
   "outputs": [
    {
     "name": "stdout",
     "output_type": "stream",
     "text": [
      "  1.901462 seconds (1.48 M allocations: 77.702 MiB, 1.00% gc time)\n",
      "Objective value: 4.0\n",
      "x1 = 4.0\n",
      "x2 = 4.0\n"
     ]
    }
   ],
   "source": [
    "@time begin\n",
    "    status = solve(myModel)\n",
    "end\n",
    "println(\"Objective value: \", getobjectivevalue(myModel))\n",
    "println(\"x1 = \", getvalue(x1))\n",
    "println(\"x2 = \", getvalue(x2))"
   ]
  },
  {
   "cell_type": "markdown",
   "metadata": {},
   "source": [
    "### 1B & 1C\n",
    "\n",
    "Value is x1 and x2 = 4, objective function itself is also = 4."
   ]
  },
  {
   "cell_type": "code",
   "execution_count": 13,
   "metadata": {
    "scrolled": true
   },
   "outputs": [
    {
     "name": "stderr",
     "output_type": "stream",
     "text": [
      "\u001b[1m\u001b[33mWARNING: \u001b[39m\u001b[22m\u001b[33mifelse(c::AbstractArray{Bool}, x::AbstractArray, y) is deprecated, use ifelse.(c, x, y) instead.\u001b[39m\n",
      "Stacktrace:\n",
      " [1] \u001b[1mdepwarn\u001b[22m\u001b[22m\u001b[1m(\u001b[22m\u001b[22m::String, ::Symbol\u001b[1m)\u001b[22m\u001b[22m at \u001b[1m.\\deprecated.jl:70\u001b[22m\u001b[22m\n",
      " [2] \u001b[1mifelse\u001b[22m\u001b[22m\u001b[1m(\u001b[22m\u001b[22m::BitArray{1}, ::Array{Float64,1}, ::Float64\u001b[1m)\u001b[22m\u001b[22m at \u001b[1m.\\deprecated.jl:57\u001b[22m\u001b[22m\n",
      " [3] \u001b[1minclude_string\u001b[22m\u001b[22m\u001b[1m(\u001b[22m\u001b[22m::String, ::String\u001b[1m)\u001b[22m\u001b[22m at \u001b[1m.\\loading.jl:522\u001b[22m\u001b[22m\n",
      " [4] \u001b[1minclude_string\u001b[22m\u001b[22m\u001b[1m(\u001b[22m\u001b[22m::Module, ::String, ::String\u001b[1m)\u001b[22m\u001b[22m at \u001b[1mC:\\Users\\Boog\\.julia\\v0.6\\Compat\\src\\Compat.jl:174\u001b[22m\u001b[22m\n",
      " [5] \u001b[1mexecute_request\u001b[22m\u001b[22m\u001b[1m(\u001b[22m\u001b[22m::ZMQ.Socket, ::IJulia.Msg\u001b[1m)\u001b[22m\u001b[22m at \u001b[1mC:\\Users\\Boog\\.julia\\v0.6\\IJulia\\src\\execute_request.jl:154\u001b[22m\u001b[22m\n",
      " [6] \u001b[1m(::Compat.#inner#16{Array{Any,1},IJulia.#execute_request,Tuple{ZMQ.Socket,IJulia.Msg}})\u001b[22m\u001b[22m\u001b[1m(\u001b[22m\u001b[22m\u001b[1m)\u001b[22m\u001b[22m at \u001b[1mC:\\Users\\Boog\\.julia\\v0.6\\Compat\\src\\Compat.jl:496\u001b[22m\u001b[22m\n",
      " [7] \u001b[1meventloop\u001b[22m\u001b[22m\u001b[1m(\u001b[22m\u001b[22m::ZMQ.Socket\u001b[1m)\u001b[22m\u001b[22m at \u001b[1mC:\\Users\\Boog\\.julia\\v0.6\\IJulia\\src\\eventloop.jl:8\u001b[22m\u001b[22m\n",
      " [8] \u001b[1m(::IJulia.##14#17)\u001b[22m\u001b[22m\u001b[1m(\u001b[22m\u001b[22m\u001b[1m)\u001b[22m\u001b[22m at \u001b[1m.\\task.jl:335\u001b[22m\u001b[22m\n",
      "while loading In[13], in expression starting on line 4\n",
      "\u001b[1m\u001b[33mWARNING: \u001b[39m\u001b[22m\u001b[33mifelse(c::AbstractArray{Bool}, x::AbstractArray, y) is deprecated, use ifelse.(c, x, y) instead.\u001b[39m\n",
      "Stacktrace:\n",
      " [1] \u001b[1mdepwarn\u001b[22m\u001b[22m\u001b[1m(\u001b[22m\u001b[22m::String, ::Symbol\u001b[1m)\u001b[22m\u001b[22m at \u001b[1m.\\deprecated.jl:70\u001b[22m\u001b[22m\n",
      " [2] \u001b[1mifelse\u001b[22m\u001b[22m\u001b[1m(\u001b[22m\u001b[22m::BitArray{1}, ::Array{Float64,1}, ::Float64\u001b[1m)\u001b[22m\u001b[22m at \u001b[1m.\\deprecated.jl:57\u001b[22m\u001b[22m\n",
      " [3] \u001b[1minclude_string\u001b[22m\u001b[22m\u001b[1m(\u001b[22m\u001b[22m::String, ::String\u001b[1m)\u001b[22m\u001b[22m at \u001b[1m.\\loading.jl:522\u001b[22m\u001b[22m\n",
      " [4] \u001b[1minclude_string\u001b[22m\u001b[22m\u001b[1m(\u001b[22m\u001b[22m::Module, ::String, ::String\u001b[1m)\u001b[22m\u001b[22m at \u001b[1mC:\\Users\\Boog\\.julia\\v0.6\\Compat\\src\\Compat.jl:174\u001b[22m\u001b[22m\n",
      " [5] \u001b[1mexecute_request\u001b[22m\u001b[22m\u001b[1m(\u001b[22m\u001b[22m::ZMQ.Socket, ::IJulia.Msg\u001b[1m)\u001b[22m\u001b[22m at \u001b[1mC:\\Users\\Boog\\.julia\\v0.6\\IJulia\\src\\execute_request.jl:154\u001b[22m\u001b[22m\n",
      " [6] \u001b[1m(::Compat.#inner#16{Array{Any,1},IJulia.#execute_request,Tuple{ZMQ.Socket,IJulia.Msg}})\u001b[22m\u001b[22m\u001b[1m(\u001b[22m\u001b[22m\u001b[1m)\u001b[22m\u001b[22m at \u001b[1mC:\\Users\\Boog\\.julia\\v0.6\\Compat\\src\\Compat.jl:496\u001b[22m\u001b[22m\n",
      " [7] \u001b[1meventloop\u001b[22m\u001b[22m\u001b[1m(\u001b[22m\u001b[22m::ZMQ.Socket\u001b[1m)\u001b[22m\u001b[22m at \u001b[1mC:\\Users\\Boog\\.julia\\v0.6\\IJulia\\src\\eventloop.jl:8\u001b[22m\u001b[22m\n",
      " [8] \u001b[1m(::IJulia.##14#17)\u001b[22m\u001b[22m\u001b[1m(\u001b[22m\u001b[22m\u001b[1m)\u001b[22m\u001b[22m at \u001b[1m.\\task.jl:335\u001b[22m\u001b[22m\n",
      "while loading In[13], in expression starting on line 5\n",
      "\u001b[1m\u001b[33mWARNING: \u001b[39m\u001b[22m\u001b[33mifelse(c::AbstractArray{Bool}, x::AbstractArray, y) is deprecated, use ifelse.(c, x, y) instead.\u001b[39m\n",
      "Stacktrace:\n",
      " [1] \u001b[1mdepwarn\u001b[22m\u001b[22m\u001b[1m(\u001b[22m\u001b[22m::String, ::Symbol\u001b[1m)\u001b[22m\u001b[22m at \u001b[1m.\\deprecated.jl:70\u001b[22m\u001b[22m\n",
      " [2] \u001b[1mifelse\u001b[22m\u001b[22m\u001b[1m(\u001b[22m\u001b[22m::BitArray{1}, ::Array{Float64,1}, ::Float64\u001b[1m)\u001b[22m\u001b[22m at \u001b[1m.\\deprecated.jl:57\u001b[22m\u001b[22m\n",
      " [3] \u001b[1minclude_string\u001b[22m\u001b[22m\u001b[1m(\u001b[22m\u001b[22m::String, ::String\u001b[1m)\u001b[22m\u001b[22m at \u001b[1m.\\loading.jl:522\u001b[22m\u001b[22m\n",
      " [4] \u001b[1minclude_string\u001b[22m\u001b[22m\u001b[1m(\u001b[22m\u001b[22m::Module, ::String, ::String\u001b[1m)\u001b[22m\u001b[22m at \u001b[1mC:\\Users\\Boog\\.julia\\v0.6\\Compat\\src\\Compat.jl:174\u001b[22m\u001b[22m\n",
      " [5] \u001b[1mexecute_request\u001b[22m\u001b[22m\u001b[1m(\u001b[22m\u001b[22m::ZMQ.Socket, ::IJulia.Msg\u001b[1m)\u001b[22m\u001b[22m at \u001b[1mC:\\Users\\Boog\\.julia\\v0.6\\IJulia\\src\\execute_request.jl:154\u001b[22m\u001b[22m\n",
      " [6] \u001b[1m(::Compat.#inner#16{Array{Any,1},IJulia.#execute_request,Tuple{ZMQ.Socket,IJulia.Msg}})\u001b[22m\u001b[22m\u001b[1m(\u001b[22m\u001b[22m\u001b[1m)\u001b[22m\u001b[22m at \u001b[1mC:\\Users\\Boog\\.julia\\v0.6\\Compat\\src\\Compat.jl:496\u001b[22m\u001b[22m\n",
      " [7] \u001b[1meventloop\u001b[22m\u001b[22m\u001b[1m(\u001b[22m\u001b[22m::ZMQ.Socket\u001b[1m)\u001b[22m\u001b[22m at \u001b[1mC:\\Users\\Boog\\.julia\\v0.6\\IJulia\\src\\eventloop.jl:8\u001b[22m\u001b[22m\n",
      " [8] \u001b[1m(::IJulia.##14#17)\u001b[22m\u001b[22m\u001b[1m(\u001b[22m\u001b[22m\u001b[1m)\u001b[22m\u001b[22m at \u001b[1m.\\task.jl:335\u001b[22m\u001b[22m\n",
      "while loading In[13], in expression starting on line 6\n",
      "\u001b[1m\u001b[33mWARNING: \u001b[39m\u001b[22m\u001b[33mifelse(c::AbstractArray{Bool}, x::AbstractArray, y) is deprecated, use ifelse.(c, x, y) instead.\u001b[39m\n",
      "Stacktrace:\n",
      " [1] \u001b[1mdepwarn\u001b[22m\u001b[22m\u001b[1m(\u001b[22m\u001b[22m::String, ::Symbol\u001b[1m)\u001b[22m\u001b[22m at \u001b[1m.\\deprecated.jl:70\u001b[22m\u001b[22m\n",
      " [2] \u001b[1mifelse\u001b[22m\u001b[22m\u001b[1m(\u001b[22m\u001b[22m::BitArray{1}, ::Array{Float64,1}, ::Float64\u001b[1m)\u001b[22m\u001b[22m at \u001b[1m.\\deprecated.jl:57\u001b[22m\u001b[22m\n",
      " [3] \u001b[1minclude_string\u001b[22m\u001b[22m\u001b[1m(\u001b[22m\u001b[22m::String, ::String\u001b[1m)\u001b[22m\u001b[22m at \u001b[1m.\\loading.jl:522\u001b[22m\u001b[22m\n",
      " [4] \u001b[1minclude_string\u001b[22m\u001b[22m\u001b[1m(\u001b[22m\u001b[22m::Module, ::String, ::String\u001b[1m)\u001b[22m\u001b[22m at \u001b[1mC:\\Users\\Boog\\.julia\\v0.6\\Compat\\src\\Compat.jl:174\u001b[22m\u001b[22m\n",
      " [5] \u001b[1mexecute_request\u001b[22m\u001b[22m\u001b[1m(\u001b[22m\u001b[22m::ZMQ.Socket, ::IJulia.Msg\u001b[1m)\u001b[22m\u001b[22m at \u001b[1mC:\\Users\\Boog\\.julia\\v0.6\\IJulia\\src\\execute_request.jl:154\u001b[22m\u001b[22m\n",
      " [6] \u001b[1m(::Compat.#inner#16{Array{Any,1},IJulia.#execute_request,Tuple{ZMQ.Socket,IJulia.Msg}})\u001b[22m\u001b[22m\u001b[1m(\u001b[22m\u001b[22m\u001b[1m)\u001b[22m\u001b[22m at \u001b[1mC:\\Users\\Boog\\.julia\\v0.6\\Compat\\src\\Compat.jl:496\u001b[22m\u001b[22m\n",
      " [7] \u001b[1meventloop\u001b[22m\u001b[22m\u001b[1m(\u001b[22m\u001b[22m::ZMQ.Socket\u001b[1m)\u001b[22m\u001b[22m at \u001b[1mC:\\Users\\Boog\\.julia\\v0.6\\IJulia\\src\\eventloop.jl:8\u001b[22m\u001b[22m\n",
      " [8] \u001b[1m(::IJulia.##14#17)\u001b[22m\u001b[22m\u001b[1m(\u001b[22m\u001b[22m\u001b[1m)\u001b[22m\u001b[22m at \u001b[1m.\\task.jl:335\u001b[22m\u001b[22m\n",
      "while loading In[13], in expression starting on line 7\n"
     ]
    },
    {
     "data": {
      "image/png": "[encoded data removed]",
      "text/plain": [
       "PyPlot.Figure(PyObject <matplotlib.figure.Figure object at 0x000000004572C780>)"
      ]
     },
     "metadata": {},
     "output_type": "display_data"
    },
    {
     "name": "stderr",
     "output_type": "stream",
     "text": [
      "\u001b[1m\u001b[33mWARNING: \u001b[39m\u001b[22m\u001b[33mifelse(c::AbstractArray{Bool}, x, y) is deprecated, use ifelse.(c, x, y) instead.\u001b[39m\n",
      "Stacktrace:\n",
      " [1] \u001b[1mdepwarn\u001b[22m\u001b[22m\u001b[1m(\u001b[22m\u001b[22m::String, ::Symbol\u001b[1m)\u001b[22m\u001b[22m at \u001b[1m.\\deprecated.jl:70\u001b[22m\u001b[22m\n",
      " [2] \u001b[1mifelse\u001b[22m\u001b[22m\u001b[1m(\u001b[22m\u001b[22m::BitArray{1}, ::Int64, ::Float64\u001b[1m)\u001b[22m\u001b[22m at \u001b[1m.\\deprecated.jl:57\u001b[22m\u001b[22m\n",
      " [3] \u001b[1minclude_string\u001b[22m\u001b[22m\u001b[1m(\u001b[22m\u001b[22m::String, ::String\u001b[1m)\u001b[22m\u001b[22m at \u001b[1m.\\loading.jl:522\u001b[22m\u001b[22m\n",
      " [4] \u001b[1minclude_string\u001b[22m\u001b[22m\u001b[1m(\u001b[22m\u001b[22m::Module, ::String, ::String\u001b[1m)\u001b[22m\u001b[22m at \u001b[1mC:\\Users\\Boog\\.julia\\v0.6\\Compat\\src\\Compat.jl:174\u001b[22m\u001b[22m\n",
      " [5] \u001b[1mexecute_request\u001b[22m\u001b[22m\u001b[1m(\u001b[22m\u001b[22m::ZMQ.Socket, ::IJulia.Msg\u001b[1m)\u001b[22m\u001b[22m at \u001b[1mC:\\Users\\Boog\\.julia\\v0.6\\IJulia\\src\\execute_request.jl:154\u001b[22m\u001b[22m\n",
      " [6] \u001b[1m(::Compat.#inner#16{Array{Any,1},IJulia.#execute_request,Tuple{ZMQ.Socket,IJulia.Msg}})\u001b[22m\u001b[22m\u001b[1m(\u001b[22m\u001b[22m\u001b[1m)\u001b[22m\u001b[22m at \u001b[1mC:\\Users\\Boog\\.julia\\v0.6\\Compat\\src\\Compat.jl:496\u001b[22m\u001b[22m\n",
      " [7] \u001b[1meventloop\u001b[22m\u001b[22m\u001b[1m(\u001b[22m\u001b[22m::ZMQ.Socket\u001b[1m)\u001b[22m\u001b[22m at \u001b[1mC:\\Users\\Boog\\.julia\\v0.6\\IJulia\\src\\eventloop.jl:8\u001b[22m\u001b[22m\n",
      " [8] \u001b[1m(::IJulia.##14#17)\u001b[22m\u001b[22m\u001b[1m(\u001b[22m\u001b[22m\u001b[1m)\u001b[22m\u001b[22m at \u001b[1m.\\task.jl:335\u001b[22m\u001b[22m\n",
      "while loading In[13], in expression starting on line 8\n"
     ]
    },
    {
     "data": {
      "text/plain": [
       "PyObject <matplotlib.legend.Legend object at 0x00000000478E5C18>"
      ]
     },
     "execution_count": 13,
     "metadata": {},
     "output_type": "execute_result"
    }
   ],
   "source": [
    "# plot the constraints\n",
    "\n",
    "x1 = collect(0:0.1:8)\n",
    "x2a = ifelse(1+x1.>=0,1+x1,NaN)\n",
    "x2b = ifelse(2+0.5*x1.>=0,2+0.5*x1,NaN)\n",
    "x2c = ifelse(9-x1.>=0,9-x1,NaN)\n",
    "x2d = ifelse(6-0.5*x1.>=0,6-0.5*x1,NaN)\n",
    "x2e = ifelse(x1.>=0,4,NaN)\n",
    "\n",
    "fig, ax = subplots()\n",
    "ax[:fill_between](x1,x2a,color=\"red\",linewidth=2,label=L\"x_{2} \\leq 1 + x_{1}\",alpha=0.3)\n",
    "ax[:legend](loc=\"upper right\")\n",
    "ax[:fill_between](x1,x2b,color=\"blue\",linewidth=2,label=L\"x_{2} \\leq 2 + 0.5x_{1}\",alpha=0.3)\n",
    "ax[:legend](loc=\"upper right\")\n",
    "ax[:fill_between](x1,x2c,color=\"green\",linewidth=2,label=L\"x_{2} \\leq 9 - x_{1}\",alpha=0.3)\n",
    "ax[:legend](loc=\"upper right\")\n",
    "ax[:fill_between](x1,x2d,color=\"purple\",linewidth=2,label=L\"x_{2} \\leq 6 - 0.5x_{1}\",alpha=0.3)\n",
    "ax[:legend](loc=\"upper right\")\n",
    "\n",
    "ax[:plot](x1,x2e,color=\"black\",linewidth=2,label=L\"x_{2} = 4\",alpha=1)\n",
    "ax[:legend](loc=\"upper right\")"
   ]
  },
  {
   "cell_type": "markdown",
   "metadata": {},
   "source": [
    "### 1D"
   ]
  },
  {
   "cell_type": "markdown",
   "metadata": {},
   "source": [
    "There are two overlapping lines on both sides of x1 =4. We must meet the shallower of the two curves on both sides while satisfying the condition for optimal value of x2 = 4."
   ]
  },
  {
   "cell_type": "markdown",
   "metadata": {},
   "source": [
    "# 2"
   ]
  },
  {
   "cell_type": "code",
   "execution_count": 18,
   "metadata": {},
   "outputs": [
    {
     "data": {
      "text/latex": [
       "$$ \\begin{alignat*}{1}\\max\\quad & 6 x1 + 4 x2\\\\\n",
       "\\text{Subject to} \\quad & 2 x1 + 3 x2 \\leq 9\\\\\n",
       " & x1 \\leq 3\\\\\n",
       " & x2 \\leq 2\\\\\n",
       " & x1 \\geq 0\\\\\n",
       " & x2 \\geq 0\\\\\n",
       "\\end{alignat*}\n",
       " $$"
      ],
      "text/plain": [
       "Maximization problem with:\n",
       " * 3 linear constraints\n",
       " * 2 variables\n",
       "Solver is GLPKInterfaceLP"
      ]
     },
     "execution_count": 18,
     "metadata": {},
     "output_type": "execute_result"
    }
   ],
   "source": [
    "myModel = Model(solver=GLPKSolverLP())\n",
    "@variable(myModel, x1 >= 0)\n",
    "@variable(myModel, x2 >= 0)\n",
    "@constraint(myModel, 2*x1 + 3*x2 <= 9)\n",
    "@constraint(myModel, x1 <= 3)\n",
    "@constraint(myModel, x2 <= 2)\n",
    "@objective(myModel, Max, 6x1 + 4x2)\n",
    "myModel"
   ]
  },
  {
   "cell_type": "code",
   "execution_count": 19,
   "metadata": {},
   "outputs": [
    {
     "name": "stdout",
     "output_type": "stream",
     "text": [
      "  0.000185 seconds (77 allocations: 5.141 KiB)\n",
      "Objective value: 22.0\n",
      "x1 = 3.0\n",
      "x2 = 1.0\n"
     ]
    }
   ],
   "source": [
    "@time begin\n",
    "    status = solve(myModel)\n",
    "end\n",
    "println(\"Objective value: \", getobjectivevalue(myModel))\n",
    "println(\"x1 = \", getvalue(x1))\n",
    "println(\"x2 = \", getvalue(x2))"
   ]
  },
  {
   "cell_type": "code",
   "execution_count": 27,
   "metadata": {},
   "outputs": [
    {
     "data": {
      "image/png": "[encoded data removed]",
      "text/plain": [
       "PyPlot.Figure(PyObject <matplotlib.figure.Figure object at 0x0000000047C79160>)"
      ]
     },
     "metadata": {},
     "output_type": "display_data"
    },
    {
     "data": {
      "text/plain": [
       "PyObject <matplotlib.legend.Legend object at 0x00000000467691D0>"
      ]
     },
     "execution_count": 27,
     "metadata": {},
     "output_type": "execute_result"
    }
   ],
   "source": [
    "# plot the constraints\n",
    "\n",
    "# x1 = collect(0:0.1:6)\n",
    "# x2a = ifelse(3-2/3*x1.>=0,3-2/3*x1,NaN)\n",
    "# x2b = ifelse((x1.<=3),3,NaN)\n",
    "# x2c = ifelse((x1.<=2),2,NaN)\n",
    "# x2e = ifelse.(22/4 - 6/4*x1.>=0, 22/4 - 6/4*x1 ,NaN)\n",
    "\n",
    "x1 = collect(0:0.1:5)\n",
    "x2a = ifelse.(3-2/3*x1.>=0, 3-2/3*x1, NaN)\n",
    "x2b = ifelse.((x1.<=3),1,NaN)\n",
    "x2c = ifelse.(x1.>=0,2,NaN)\n",
    "x2e = ifelse.(22/4 - 6/4*x1.>=0, 22/4 - 6/4*x1 ,NaN)\n",
    "\n",
    "fig, ax = subplots()\n",
    "ax[:fill_between](x1, x2a, color=\"red\",linewidth=2,label=L\"x_{2} \\leq 3 - \\frac{2}{3}x_{1}\",alpha=0.3)\n",
    "ax[:legend](loc=\"upper right\")\n",
    "ax[:fill_between](x1,x2b,color=\"blue\",linewidth=2,label=L\"x_{2} \\leq 1\", alpha=0.3)\n",
    "ax[:legend](loc=\"upper right\")\n",
    "ax[:fill_between](x1,x2c,color=\"yellow\",linewidth=2,label=L\"x_{2} \\leq 2\", alpha=0.3)\n",
    "ax[:legend](loc=\"upper right\")\n",
    "ax[:plot](x1,x2e,color=\"black\",linewidth=2,label=L\"x_{2} \\frac{22}{4} - \\frac{6}{4}x_{1}\", alpha=1)\n",
    "ax[:legend](loc=\"upper right\")\n"
   ]
  },
  {
   "cell_type": "markdown",
   "metadata": {},
   "source": [
    "## Question::\n",
    "\n",
    "How do we arrive at the x2c equation where it must be less than or equal to two?"
   ]
  },
  {
   "cell_type": "markdown",
   "metadata": {},
   "source": [
    "## 3"
   ]
  },
  {
   "cell_type": "markdown",
   "metadata": {},
   "source": [
    "So we need to construct an optimizer that looks at overall cash on hand.\n",
    "\n",
    "Ultimately it's a profit maximizing question.\n",
    "\n"
   ]
  },
  {
   "cell_type": "code",
   "execution_count": 40,
   "metadata": {},
   "outputs": [
    {
     "data": {
      "text/latex": [
       "$$ \\begin{alignat*}{1}\\max\\quad & c6\\\\\n",
       "\\text{Subject to} \\quad & b1 + z1 - c1 = 250\\\\\n",
       " & -1.005 b1 + b2 + z2 + 1.002 c1 - c2 = 50\\\\\n",
       " & -1.005 b2 + b3 + z3 + 1.002 c2 - c3 = -225\\\\\n",
       " & -1.005 b3 + b4 + z4 - 1.015 z1 + 1.002 c3 - c4 = 175\\\\\n",
       " & -1.005 b4 + b5 + z5 - 1.015 z2 + 1.002 c4 - c5 = -150\\\\\n",
       " & -1.005 b5 - 1.015 z3 + 1.002 c5 - c6 = -400\\\\\n",
       " & b1 \\leq 100\\\\\n",
       " & b2 \\leq 100\\\\\n",
       " & b3 \\leq 100\\\\\n",
       " & b4 \\leq 100\\\\\n",
       " & b5 \\leq 100\\\\\n",
       " & b1 \\geq 0\\\\\n",
       " & b2 \\geq 0\\\\\n",
       " & b3 \\geq 0\\\\\n",
       " & b4 \\geq 0\\\\\n",
       " & b5 \\geq 0\\\\\n",
       " & c1 \\geq 0\\\\\n",
       " & c2 \\geq 0\\\\\n",
       " & c3 \\geq 0\\\\\n",
       " & c4 \\geq 0\\\\\n",
       " & c5 \\geq 0\\\\\n",
       " & c6 \\geq 0\\\\\n",
       " & z1 \\geq 0\\\\\n",
       " & z2 \\geq 0\\\\\n",
       " & z3 \\geq 0\\\\\n",
       " & z4 \\geq 0\\\\\n",
       " & z5 \\geq 0\\\\\n",
       "\\end{alignat*}\n",
       " $$"
      ],
      "text/plain": [
       "Maximization problem with:\n",
       " * 11 linear constraints\n",
       " * 16 variables\n",
       "Solver is GLPKInterfaceLP"
      ]
     },
     "execution_count": 40,
     "metadata": {},
     "output_type": "execute_result"
    }
   ],
   "source": [
    "myModel = Model(solver=GLPKSolverLP())\n",
    "@variable(myModel, b1 >=0)\n",
    "@variable(myModel, b2 >=0)\n",
    "@variable(myModel, b3 >=0)\n",
    "@variable(myModel, b4 >=0)\n",
    "@variable(myModel, b5 >=0)\n",
    "\n",
    "@variable(myModel, c1 >=0)\n",
    "@variable(myModel, c2 >=0)\n",
    "@variable(myModel, c3 >=0)\n",
    "@variable(myModel, c4 >=0)\n",
    "@variable(myModel, c5 >=0)\n",
    "@variable(myModel, c6 >=0)\n",
    "\n",
    "@variable(myModel, z1 >=0)\n",
    "@variable(myModel, z2 >=0)\n",
    "@variable(myModel, z3 >=0)\n",
    "@variable(myModel, z4 >=0)\n",
    "@variable(myModel, z5 >=0)\n",
    "\n",
    "@constraint(myModel, b1 + z1 - c1 == 250)\n",
    "@constraint(myModel, -1.005*b1 + b2 + z2 + 1.002*c1 - c2 == 50)\n",
    "@constraint(myModel, -1.005*b2 + b3 + z3 + 1.002*c2 - c3 == -225)\n",
    "@constraint(myModel, -1.005*b3 + b4 + z4 - 1.015*z1 + 1.002*c3 - c4 == 175)\n",
    "@constraint(myModel, -1.005*b4 + b5 + z5 - 1.015*z2 + 1.002*c4 - c5 == -150)\n",
    "@constraint(myModel, -1.005*b5 - 1.015*z3 + 1.002*c5 - c6 == -400)\n",
    "@constraint(myModel, b1<=100)\n",
    "@constraint(myModel, b2<=100)\n",
    "@constraint(myModel, b3<=100)\n",
    "@constraint(myModel, b4<=100)\n",
    "@constraint(myModel, b5<=100)\n",
    "\n",
    "@objective(myModel, Max, c6)\n",
    "myModel\n"
   ]
  },
  {
   "cell_type": "code",
   "execution_count": 39,
   "metadata": {},
   "outputs": [
    {
     "name": "stdout",
     "output_type": "stream",
     "text": [
      "  0.000371 seconds (154 allocations: 13.078 KiB)\n",
      "Objective value: NaN\n",
      "b1 = 0.0\n",
      "b2 = 0.0\n",
      "b3 = 0.0\n",
      "b4 = 0.0\n",
      "b5 = 0.0\n",
      "c1 = 0.0\n",
      "c2 = 0.0\n",
      "c3 = 0.0\n",
      "c4 = 0.0\n",
      "c5 = 0.0\n",
      "c6 = 1.0\n",
      "z1 = 0.0\n",
      "z2 = 0.0\n",
      "z3 = 0.0\n"
     ]
    },
    {
     "name": "stderr",
     "output_type": "stream",
     "text": [
      "\u001b[1m\u001b[33mWARNING: \u001b[39m\u001b[22m\u001b[33mNot solved to optimality, status: Unbounded\u001b[39m\n"
     ]
    }
   ],
   "source": [
    "@time begin\n",
    "    status=solve(myModel)\n",
    "end\n",
    "println(\"Objective value: \", getobjectivevalue(myModel))\n",
    "println(\"b1 = \", getvalue(b1))\n",
    "println(\"b2 = \", getvalue(b2))\n",
    "println(\"b3 = \", getvalue(b3))\n",
    "println(\"b4 = \", getvalue(b4))\n",
    "println(\"b5 = \", getvalue(b5))\n",
    "\n",
    "println(\"c1 = \", getvalue(c1))\n",
    "println(\"c2 = \", getvalue(c2))\n",
    "println(\"c3 = \", getvalue(c3))\n",
    "println(\"c4 = \", getvalue(c4))\n",
    "println(\"c5 = \", getvalue(c5))\n",
    "println(\"c6 = \", getvalue(c6))\n",
    "\n",
    "println(\"z1 = \", getvalue(z1))\n",
    "println(\"z2 = \", getvalue(z2))\n",
    "println(\"z3 = \", getvalue(z3))\n"
   ]
  },
  {
   "cell_type": "markdown",
   "metadata": {},
   "source": [
    "B. What is the optimal amount of cash on Dec 2013?\n",
    "The optimal amount of cash in Dec 2013 is $294.40k.\n",
    "\n",
    "C. Interpret the results and develop a storyline implied by the LP solution.\n",
    "According to the solution, in December 2013, the company should borrows $1.75k, and is paying back $103.83k on the bond it issued in September. The company would have brought in 0.2% interest on the cash it had available in November, however that amount was $0. The company has $294.40k available in cash in December 2013."
   ]
  },
  {
   "cell_type": "code",
   "execution_count": null,
   "metadata": {},
   "outputs": [],
   "source": []
  }
 ],
 "metadata": {
  "kernelspec": {
   "display_name": "Julia 0.6.2",
   "language": "julia",
   "name": "julia-0.6"
  },
  "language_info": {
   "file_extension": ".jl",
   "mimetype": "application/julia",
   "name": "julia",
   "version": "0.6.2"
  }
 },
 "nbformat": 4,
 "nbformat_minor": 2
}
