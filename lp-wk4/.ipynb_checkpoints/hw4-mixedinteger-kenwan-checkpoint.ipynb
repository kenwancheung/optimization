{
 "cells": [
  {
   "cell_type": "markdown",
   "metadata": {},
   "source": [
    "1 - The city of Chicago hired your services to create a daily schedule for the bus drivers for a given bus route. Because of changes in demand throughout the day, the number of buses needed varies. The number of buses scheduled are shown below:\n",
    "\n",
    "| Start | End | Buses |\n",
    "| ------------- |:-------------:| -----:|\n",
    "| 12AM | 4AM | 2 |\n",
    "| 4AM | 8AM | 7 |\n",
    "| 8AM  | 12PM | 10 |\n",
    "| 12PM | 4PM |15 |\n",
    "| 4PM | 8PM | 5 |\n",
    "| 8PM | 12AM | 2 |\n",
    "\n",
    "A driver must be scheduled for an 8 hour shift, and the driver has to start at the beginning of one of the stipulated starting times. The shifts start at midnight, 4AM, 8AM, 12PM, 4PM, 8PM, and last for 8 hours. Note that a bus driver that starts at 8PM works until 4AM of the next day.\n",
    "\n",
    "Your proposed schedule must include enough bus drivers to drive the scheduled buses in each period. All scheduled buses must be in service! Your goal is to minimize the number of bus drivers hired while making sure that there are enough drivers for the scheduled buses during each interval."
   ]
  },
  {
   "cell_type": "code",
   "execution_count": 2,
   "metadata": {},
   "outputs": [],
   "source": [
    "using JuMP, GLPKMathProgInterface"
   ]
  },
  {
   "cell_type": "markdown",
   "metadata": {},
   "source": [
    "So we need consecutive time starts of two. This means that we could consider it instead as \n",
    "\n",
    "y1 = starts 12AM - 4Am\n",
    "y2 = starts 4AM - 8AM\n",
    "\n",
    "...\n",
    "\n",
    "And then y1 + y2 etc..."
   ]
  },
  {
   "cell_type": "code",
   "execution_count": 11,
   "metadata": {},
   "outputs": [
    {
     "data": {
      "text/latex": [
       "$$ \\begin{alignat*}{1}\\min\\quad & s1 + s2 + s3 + s4 + s5 + s6\\\\\n",
       "\\text{Subject to} \\quad & s6 + s1 \\geq 2\\\\\n",
       " & s1 + s2 \\geq 7\\\\\n",
       " & s2 + s3 \\geq 10\\\\\n",
       " & s3 + s4 \\geq 15\\\\\n",
       " & s4 + s5 \\geq 5\\\\\n",
       " & s5 + s6 \\geq 2\\\\\n",
       " & s1 \\geq 0, \\in \\mathbb{Z}\\\\\n",
       " & s2 \\geq 0, \\in \\mathbb{Z}\\\\\n",
       " & s3 \\geq 0, \\in \\mathbb{Z}\\\\\n",
       " & s4 \\geq 0, \\in \\mathbb{Z}\\\\\n",
       " & s5 \\geq 0, \\in \\mathbb{Z}\\\\\n",
       " & s6 \\geq 0, \\in \\mathbb{Z}\\\\\n",
       "\\end{alignat*}\n",
       " $$"
      ],
      "text/plain": [
       "Minimization problem with:\n",
       " * 6 linear constraints\n",
       " * 6 variables: 6 integer\n",
       "Solver is GLPKInterfaceMIP"
      ]
     },
     "execution_count": 11,
     "metadata": {},
     "output_type": "execute_result"
    }
   ],
   "source": [
    "myModel = Model(solver=GLPKSolverMIP())\n",
    "@variable(myModel, s1 >= 0, Int)\n",
    "@variable(myModel, s2 >= 0, Int)\n",
    "@variable(myModel, s3 >= 0, Int)\n",
    "@variable(myModel, s4 >= 0, Int)\n",
    "@variable(myModel, s5 >= 0, Int)\n",
    "@variable(myModel, s6 >= 0, Int)\n",
    "\n",
    "@constraint(myModel, s6 + s1 >= 2)\n",
    "@constraint(myModel, s1 + s2 >= 7)\n",
    "@constraint(myModel, s2 + s3 >= 10)\n",
    "@constraint(myModel, s3 + s4 >= 15)\n",
    "@constraint(myModel, s4 + s5 >= 5)\n",
    "@constraint(myModel, s5 + s6 >= 2)\n",
    "\n",
    "@objective(myModel, Min, s1+s2+s3+s4+s5+s6)\n",
    "myModel"
   ]
  },
  {
   "cell_type": "code",
   "execution_count": 13,
   "metadata": {},
   "outputs": [
    {
     "name": "stdout",
     "output_type": "stream",
     "text": [
      "  0.093580 seconds (17.25 k allocations: 948.412 KiB, 8.39% gc time)\n",
      "Objective value: 24.0\n",
      "shift 1 start = 2.0\n",
      "shift 2 start = 5.0\n",
      "shift 3 start = 12.0\n",
      "shift 4 start = 3.0\n",
      "shift 5 start = 2.0\n",
      "shift 6 start = 0.0\n"
     ]
    },
    {
     "name": "stderr",
     "output_type": "stream",
     "text": [
      "\u001b[1m\u001b[33mWARNING: \u001b[39m\u001b[22m\u001b[33mSolver does not appear to support providing initial feasible solutions.\u001b[39m\n"
     ]
    }
   ],
   "source": [
    "@time begin\n",
    "    status = solve(myModel)\n",
    "end\n",
    "println(\"Objective value: \", getobjectivevalue(myModel))\n",
    "println(\"shift 1 start = \", getvalue(s1))\n",
    "println(\"shift 2 start = \", getvalue(s2))\n",
    "println(\"shift 3 start = \", getvalue(s3))\n",
    "println(\"shift 4 start = \", getvalue(s4))\n",
    "println(\"shift 5 start = \", getvalue(s5))\n",
    "println(\"shift 6 start = \", getvalue(s6))"
   ]
  },
  {
   "cell_type": "code",
   "execution_count": null,
   "metadata": {},
   "outputs": [],
   "source": []
  }
 ],
 "metadata": {
  "kernelspec": {
   "display_name": "Julia 0.6.2",
   "language": "julia",
   "name": "julia-0.6"
  },
  "language_info": {
   "file_extension": ".jl",
   "mimetype": "application/julia",
   "name": "julia",
   "version": "0.6.2"
  }
 },
 "nbformat": 4,
 "nbformat_minor": 2
}
